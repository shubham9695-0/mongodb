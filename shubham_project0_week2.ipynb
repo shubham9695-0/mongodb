{
 "cells": [
  {
   "cell_type": "code",
   "execution_count": 1,
   "metadata": {},
   "outputs": [],
   "source": [
    "# Connection to MongoDB \n",
    "import pymongo\n",
    "from pymongo import MongoClient"
   ]
  },
  {
   "cell_type": "code",
   "execution_count": 2,
   "metadata": {},
   "outputs": [],
   "source": [
    "# Estabilishing a connection with client mongo\n",
    "client = pymongo.MongoClient(\"localhost\",27017)"
   ]
  },
  {
   "cell_type": "code",
   "execution_count": 3,
   "metadata": {},
   "outputs": [],
   "source": [
    "# Creating a database\n",
    "database = client[\"Project_0\"]"
   ]
  },
  {
   "cell_type": "code",
   "execution_count": 4,
   "metadata": {},
   "outputs": [],
   "source": [
    "# Creating a collection\n",
    "collection = database[\"Meal Info\"]"
   ]
  },
  {
   "cell_type": "code",
   "execution_count": 5,
   "metadata": {},
   "outputs": [],
   "source": [
    "# File data\n",
    "docs= [{\"meal_id\":1885,\"category\":\"Beverages\",\"cuisine\":\"Thai\"},{\"meal_id\":1993,\"category\":\"Beverages\",\"cuisine\":\"Thai\"},{\"meal_id\":2539,\"category\":\"Beverages\",\"cuisine\":\"Thai\"},{\"meal_id\":1248,\"category\":\"Beverages\",\"cuisine\":\"Indian\"},{\"meal_id\":2631,\"category\":\"Beverages\",\"cuisine\":\"Indian\"},{\"meal_id\":1311,\"category\":\"Extras\",\"cuisine\":\"Thai\"},{\"meal_id\":1062,\"category\":\"Beverages\",\"cuisine\":\"Italian\"},{\"meal_id\":1778,\"category\":\"Beverages\",\"cuisine\":\"Italian\"},{\"meal_id\":1803,\"category\":\"Extras\",\"cuisine\":\"Thai\"},{\"meal_id\":1198,\"category\":\"Extras\",\"cuisine\":\"Thai\"},{\"meal_id\":2707,\"category\":\"Beverages\",\"cuisine\":\"Italian\"},{\"meal_id\":1847,\"category\":\"Soup\",\"cuisine\":\"Thai\"},{\"meal_id\":1438,\"category\":\"Soup\",\"cuisine\":\"Thai\"},{\"meal_id\":2494,\"category\":\"Soup\",\"cuisine\":\"Thai\"},{\"meal_id\":2760,\"category\":\"Other Snacks\",\"cuisine\":\"Thai\"},{\"meal_id\":2490,\"category\":\"Salad\",\"cuisine\":\"Italian\"},{\"meal_id\":1109,\"category\":\"Rice Bowl\",\"cuisine\":\"Indian\"},{\"meal_id\":2290,\"category\":\"Rice Bowl\",\"cuisine\":\"Indian\"},{\"meal_id\":1525,\"category\":\"Other Snacks\",\"cuisine\":\"Thai\"},{\"meal_id\":2704,\"category\":\"Other Snacks\",\"cuisine\":\"Thai\"},{\"meal_id\":1878,\"category\":\"Starters\",\"cuisine\":\"Thai\"},{\"meal_id\":2640,\"category\":\"Starters\",\"cuisine\":\"Thai\"},{\"meal_id\":2577,\"category\":\"Starters\",\"cuisine\":\"Thai\"},{\"meal_id\":1754,\"category\":\"Sandwich\",\"cuisine\":\"Italian\"},{\"meal_id\":1971,\"category\":\"Sandwich\",\"cuisine\":\"Italian\"},{\"meal_id\":2306,\"category\":\"Pasta\",\"cuisine\":\"Italian\"},{\"meal_id\":2139,\"category\":\"Beverages\",\"cuisine\":\"Indian\"},{\"meal_id\":2826,\"category\":\"Sandwich\",\"cuisine\":\"Italian\"},{\"meal_id\":2664,\"category\":\"Salad\",\"cuisine\":\"Italian\"},{\"meal_id\":2569,\"category\":\"Salad\",\"cuisine\":\"Italian\"},{\"meal_id\":1230,\"category\":\"Beverages\",\"cuisine\":\"Continental\"},{\"meal_id\":1207,\"category\":\"Beverages\",\"cuisine\":\"Continental\"},{\"meal_id\":2322,\"category\":\"Beverages\",\"cuisine\":\"Continental\"},{\"meal_id\":2492,\"category\":\"Desert\",\"cuisine\":\"Indian\"},{\"meal_id\":1216,\"category\":\"Pasta\",\"cuisine\":\"Italian\"},{\"meal_id\":1727,\"category\":\"Rice Bowl\",\"cuisine\":\"Indian\"},{\"meal_id\":1902,\"category\":\"Biryani\",\"cuisine\":\"Indian\"},{\"meal_id\":1247,\"category\":\"Biryani\",\"cuisine\":\"Indian\"},{\"meal_id\":2304,\"category\":\"Desert\",\"cuisine\":\"Indian\"},{\"meal_id\":1543,\"category\":\"Desert\",\"cuisine\":\"Indian\"},{\"meal_id\":1770,\"category\":\"Biryani\",\"cuisine\":\"Indian\"},{\"meal_id\":2126,\"category\":\"Pasta\",\"cuisine\":\"Italian\"},{\"meal_id\":1558,\"category\":\"Pizza\",\"cuisine\":\"Continental\"},{\"meal_id\":2581,\"category\":\"Pizza\",\"cuisine\":\"Continental\"},{\"meal_id\":1962,\"category\":\"Pizza\",\"cuisine\":\"Continental\"},{\"meal_id\":1571,\"category\":\"Fish\",\"cuisine\":\"Continental\"},{\"meal_id\":2956,\"category\":\"Fish\",\"cuisine\":\"Continental\"},{\"meal_id\":2104,\"category\":\"Fish\",\"cuisine\":\"Continental\"},{\"meal_id\":2444,\"category\":\"Seafood\",\"cuisine\":\"Continental\"},{\"meal_id\":2867,\"category\":\"Seafood\",\"cuisine\":\"Continental\"},{\"meal_id\":1445,\"category\":\"Seafood\",\"cuisine\":\"Continental\"}]"
   ]
  },
  {
   "cell_type": "code",
   "execution_count": 6,
   "metadata": {},
   "outputs": [],
   "source": [
    "# Insert into meal info [insert_many]\n",
    "result = collection.insert_many(docs)"
   ]
  },
  {
   "cell_type": "code",
   "execution_count": 7,
   "metadata": {},
   "outputs": [
    {
     "name": "stdout",
     "output_type": "stream",
     "text": [
      "Length:  51\n",
      "60e6ffeb663e9d2006e68f0e\n",
      "60e6ffeb663e9d2006e68f0f\n",
      "60e6ffeb663e9d2006e68f10\n",
      "60e6ffeb663e9d2006e68f11\n",
      "60e6ffeb663e9d2006e68f12\n",
      "60e6ffeb663e9d2006e68f13\n",
      "60e6ffeb663e9d2006e68f14\n",
      "60e6ffeb663e9d2006e68f15\n",
      "60e6ffeb663e9d2006e68f16\n",
      "60e6ffeb663e9d2006e68f17\n",
      "60e6ffeb663e9d2006e68f18\n",
      "60e6ffeb663e9d2006e68f19\n",
      "60e6ffeb663e9d2006e68f1a\n",
      "60e6ffeb663e9d2006e68f1b\n",
      "60e6ffeb663e9d2006e68f1c\n",
      "60e6ffeb663e9d2006e68f1d\n",
      "60e6ffeb663e9d2006e68f1e\n",
      "60e6ffeb663e9d2006e68f1f\n",
      "60e6ffeb663e9d2006e68f20\n",
      "60e6ffeb663e9d2006e68f21\n",
      "60e6ffeb663e9d2006e68f22\n",
      "60e6ffeb663e9d2006e68f23\n",
      "60e6ffeb663e9d2006e68f24\n",
      "60e6ffeb663e9d2006e68f25\n",
      "60e6ffeb663e9d2006e68f26\n",
      "60e6ffeb663e9d2006e68f27\n",
      "60e6ffeb663e9d2006e68f28\n",
      "60e6ffeb663e9d2006e68f29\n",
      "60e6ffeb663e9d2006e68f2a\n",
      "60e6ffeb663e9d2006e68f2b\n",
      "60e6ffeb663e9d2006e68f2c\n",
      "60e6ffeb663e9d2006e68f2d\n",
      "60e6ffeb663e9d2006e68f2e\n",
      "60e6ffeb663e9d2006e68f2f\n",
      "60e6ffeb663e9d2006e68f30\n",
      "60e6ffeb663e9d2006e68f31\n",
      "60e6ffeb663e9d2006e68f32\n",
      "60e6ffeb663e9d2006e68f33\n",
      "60e6ffeb663e9d2006e68f34\n",
      "60e6ffeb663e9d2006e68f35\n",
      "60e6ffeb663e9d2006e68f36\n",
      "60e6ffeb663e9d2006e68f37\n",
      "60e6ffeb663e9d2006e68f38\n",
      "60e6ffeb663e9d2006e68f39\n",
      "60e6ffeb663e9d2006e68f3a\n",
      "60e6ffeb663e9d2006e68f3b\n",
      "60e6ffeb663e9d2006e68f3c\n",
      "60e6ffeb663e9d2006e68f3d\n",
      "60e6ffeb663e9d2006e68f3e\n",
      "60e6ffeb663e9d2006e68f3f\n",
      "60e6ffeb663e9d2006e68f40\n"
     ]
    }
   ],
   "source": [
    "# Inserted_ids\n",
    "inserted_ids_value = result.inserted_ids\n",
    "print(\"Length: \",len(inserted_ids_value))\n",
    "\n",
    "for i in inserted_ids_value:\n",
    "    print(i)\n",
    "    "
   ]
  },
  {
   "cell_type": "code",
   "execution_count": 8,
   "metadata": {},
   "outputs": [],
   "source": [
    "# Insert_one\n",
    "var1 = {\"meal_id\":2,\"category\":\"Snacks\",\"cuisine\":\"Indian\"}\n",
    "res = collection.insert_one(var1)"
   ]
  },
  {
   "cell_type": "code",
   "execution_count": 9,
   "metadata": {},
   "outputs": [
    {
     "data": {
      "text/plain": [
       "ObjectId('60e6ffeb663e9d2006e68f41')"
      ]
     },
     "execution_count": 9,
     "metadata": {},
     "output_type": "execute_result"
    }
   ],
   "source": [
    "# Inserted -> id...not ids{for a single value}\n",
    "value = res.inserted_id\n",
    "value\n"
   ]
  },
  {
   "cell_type": "code",
   "execution_count": 10,
   "metadata": {},
   "outputs": [
    {
     "data": {
      "text/plain": [
       "<pymongo.results.DeleteResult at 0x19215be60c0>"
      ]
     },
     "execution_count": 10,
     "metadata": {},
     "output_type": "execute_result"
    }
   ],
   "source": [
    "# Delete_one\n",
    "collection.delete_one({'_id':1})"
   ]
  },
  {
   "cell_type": "code",
   "execution_count": 11,
   "metadata": {},
   "outputs": [
    {
     "data": {
      "text/plain": [
       "<pymongo.results.DeleteResult at 0x19215bc3380>"
      ]
     },
     "execution_count": 11,
     "metadata": {},
     "output_type": "execute_result"
    }
   ],
   "source": [
    "# Delete many\n",
    "collection.delete_many({})"
   ]
  },
  {
   "cell_type": "code",
   "execution_count": 12,
   "metadata": {},
   "outputs": [
    {
     "data": {
      "text/plain": [
       "<pymongo.results.InsertManyResult at 0x19215bc3cc0>"
      ]
     },
     "execution_count": 12,
     "metadata": {},
     "output_type": "execute_result"
    }
   ],
   "source": [
    "# To insert elements again after deleting\n",
    "collection.insert_many(docs)"
   ]
  },
  {
   "cell_type": "code",
   "execution_count": 13,
   "metadata": {},
   "outputs": [
    {
     "data": {
      "text/plain": [
       "[{'_id': ObjectId('60e6ffeb663e9d2006e68f40'),\n",
       "  'meal_id': 1445,\n",
       "  'category': 'Seafood',\n",
       "  'cuisine': 'Continental'},\n",
       " {'_id': ObjectId('60e6ffeb663e9d2006e68f3f'),\n",
       "  'meal_id': 2867,\n",
       "  'category': 'Seafood',\n",
       "  'cuisine': 'Continental'},\n",
       " {'_id': ObjectId('60e6ffeb663e9d2006e68f3e'),\n",
       "  'meal_id': 2444,\n",
       "  'category': 'Seafood',\n",
       "  'cuisine': 'Continental'},\n",
       " {'_id': ObjectId('60e6ffeb663e9d2006e68f3d'),\n",
       "  'meal_id': 2104,\n",
       "  'category': 'Fish',\n",
       "  'cuisine': 'Continental'},\n",
       " {'_id': ObjectId('60e6ffeb663e9d2006e68f3c'),\n",
       "  'meal_id': 2956,\n",
       "  'category': 'Fish',\n",
       "  'cuisine': 'Continental'},\n",
       " {'_id': ObjectId('60e6ffeb663e9d2006e68f3b'),\n",
       "  'meal_id': 1571,\n",
       "  'category': 'Fish',\n",
       "  'cuisine': 'Continental'},\n",
       " {'_id': ObjectId('60e6ffeb663e9d2006e68f3a'),\n",
       "  'meal_id': 1962,\n",
       "  'category': 'Pizza',\n",
       "  'cuisine': 'Continental'},\n",
       " {'_id': ObjectId('60e6ffeb663e9d2006e68f39'),\n",
       "  'meal_id': 2581,\n",
       "  'category': 'Pizza',\n",
       "  'cuisine': 'Continental'},\n",
       " {'_id': ObjectId('60e6ffeb663e9d2006e68f38'),\n",
       "  'meal_id': 1558,\n",
       "  'category': 'Pizza',\n",
       "  'cuisine': 'Continental'},\n",
       " {'_id': ObjectId('60e6ffeb663e9d2006e68f37'),\n",
       "  'meal_id': 2126,\n",
       "  'category': 'Pasta',\n",
       "  'cuisine': 'Italian'},\n",
       " {'_id': ObjectId('60e6ffeb663e9d2006e68f36'),\n",
       "  'meal_id': 1770,\n",
       "  'category': 'Biryani',\n",
       "  'cuisine': 'Indian'},\n",
       " {'_id': ObjectId('60e6ffeb663e9d2006e68f35'),\n",
       "  'meal_id': 1543,\n",
       "  'category': 'Desert',\n",
       "  'cuisine': 'Indian'},\n",
       " {'_id': ObjectId('60e6ffeb663e9d2006e68f34'),\n",
       "  'meal_id': 2304,\n",
       "  'category': 'Desert',\n",
       "  'cuisine': 'Indian'},\n",
       " {'_id': ObjectId('60e6ffeb663e9d2006e68f33'),\n",
       "  'meal_id': 1247,\n",
       "  'category': 'Biryani',\n",
       "  'cuisine': 'Indian'},\n",
       " {'_id': ObjectId('60e6ffeb663e9d2006e68f32'),\n",
       "  'meal_id': 1902,\n",
       "  'category': 'Biryani',\n",
       "  'cuisine': 'Indian'},\n",
       " {'_id': ObjectId('60e6ffeb663e9d2006e68f31'),\n",
       "  'meal_id': 1727,\n",
       "  'category': 'Rice Bowl',\n",
       "  'cuisine': 'Indian'},\n",
       " {'_id': ObjectId('60e6ffeb663e9d2006e68f30'),\n",
       "  'meal_id': 1216,\n",
       "  'category': 'Pasta',\n",
       "  'cuisine': 'Italian'},\n",
       " {'_id': ObjectId('60e6ffeb663e9d2006e68f2f'),\n",
       "  'meal_id': 2492,\n",
       "  'category': 'Desert',\n",
       "  'cuisine': 'Indian'},\n",
       " {'_id': ObjectId('60e6ffeb663e9d2006e68f2e'),\n",
       "  'meal_id': 2322,\n",
       "  'category': 'Beverages',\n",
       "  'cuisine': 'Continental'},\n",
       " {'_id': ObjectId('60e6ffeb663e9d2006e68f2d'),\n",
       "  'meal_id': 1207,\n",
       "  'category': 'Beverages',\n",
       "  'cuisine': 'Continental'},\n",
       " {'_id': ObjectId('60e6ffeb663e9d2006e68f2c'),\n",
       "  'meal_id': 1230,\n",
       "  'category': 'Beverages',\n",
       "  'cuisine': 'Continental'},\n",
       " {'_id': ObjectId('60e6ffeb663e9d2006e68f2b'),\n",
       "  'meal_id': 2569,\n",
       "  'category': 'Salad',\n",
       "  'cuisine': 'Italian'},\n",
       " {'_id': ObjectId('60e6ffeb663e9d2006e68f2a'),\n",
       "  'meal_id': 2664,\n",
       "  'category': 'Salad',\n",
       "  'cuisine': 'Italian'},\n",
       " {'_id': ObjectId('60e6ffeb663e9d2006e68f29'),\n",
       "  'meal_id': 2826,\n",
       "  'category': 'Sandwich',\n",
       "  'cuisine': 'Italian'},\n",
       " {'_id': ObjectId('60e6ffeb663e9d2006e68f28'),\n",
       "  'meal_id': 2139,\n",
       "  'category': 'Beverages',\n",
       "  'cuisine': 'Indian'},\n",
       " {'_id': ObjectId('60e6ffeb663e9d2006e68f27'),\n",
       "  'meal_id': 2306,\n",
       "  'category': 'Pasta',\n",
       "  'cuisine': 'Italian'},\n",
       " {'_id': ObjectId('60e6ffeb663e9d2006e68f26'),\n",
       "  'meal_id': 1971,\n",
       "  'category': 'Sandwich',\n",
       "  'cuisine': 'Italian'},\n",
       " {'_id': ObjectId('60e6ffeb663e9d2006e68f25'),\n",
       "  'meal_id': 1754,\n",
       "  'category': 'Sandwich',\n",
       "  'cuisine': 'Italian'},\n",
       " {'_id': ObjectId('60e6ffeb663e9d2006e68f24'),\n",
       "  'meal_id': 2577,\n",
       "  'category': 'Starters',\n",
       "  'cuisine': 'Thai'},\n",
       " {'_id': ObjectId('60e6ffeb663e9d2006e68f23'),\n",
       "  'meal_id': 2640,\n",
       "  'category': 'Starters',\n",
       "  'cuisine': 'Thai'},\n",
       " {'_id': ObjectId('60e6ffeb663e9d2006e68f22'),\n",
       "  'meal_id': 1878,\n",
       "  'category': 'Starters',\n",
       "  'cuisine': 'Thai'},\n",
       " {'_id': ObjectId('60e6ffeb663e9d2006e68f21'),\n",
       "  'meal_id': 2704,\n",
       "  'category': 'Other Snacks',\n",
       "  'cuisine': 'Thai'},\n",
       " {'_id': ObjectId('60e6ffeb663e9d2006e68f20'),\n",
       "  'meal_id': 1525,\n",
       "  'category': 'Other Snacks',\n",
       "  'cuisine': 'Thai'},\n",
       " {'_id': ObjectId('60e6ffeb663e9d2006e68f1f'),\n",
       "  'meal_id': 2290,\n",
       "  'category': 'Rice Bowl',\n",
       "  'cuisine': 'Indian'},\n",
       " {'_id': ObjectId('60e6ffeb663e9d2006e68f1e'),\n",
       "  'meal_id': 1109,\n",
       "  'category': 'Rice Bowl',\n",
       "  'cuisine': 'Indian'},\n",
       " {'_id': ObjectId('60e6ffeb663e9d2006e68f1d'),\n",
       "  'meal_id': 2490,\n",
       "  'category': 'Salad',\n",
       "  'cuisine': 'Italian'},\n",
       " {'_id': ObjectId('60e6ffeb663e9d2006e68f1c'),\n",
       "  'meal_id': 2760,\n",
       "  'category': 'Other Snacks',\n",
       "  'cuisine': 'Thai'},\n",
       " {'_id': ObjectId('60e6ffeb663e9d2006e68f1b'),\n",
       "  'meal_id': 2494,\n",
       "  'category': 'Soup',\n",
       "  'cuisine': 'Thai'},\n",
       " {'_id': ObjectId('60e6ffeb663e9d2006e68f1a'),\n",
       "  'meal_id': 1438,\n",
       "  'category': 'Soup',\n",
       "  'cuisine': 'Thai'},\n",
       " {'_id': ObjectId('60e6ffeb663e9d2006e68f19'),\n",
       "  'meal_id': 1847,\n",
       "  'category': 'Soup',\n",
       "  'cuisine': 'Thai'},\n",
       " {'_id': ObjectId('60e6ffeb663e9d2006e68f18'),\n",
       "  'meal_id': 2707,\n",
       "  'category': 'Beverages',\n",
       "  'cuisine': 'Italian'},\n",
       " {'_id': ObjectId('60e6ffeb663e9d2006e68f17'),\n",
       "  'meal_id': 1198,\n",
       "  'category': 'Extras',\n",
       "  'cuisine': 'Thai'},\n",
       " {'_id': ObjectId('60e6ffeb663e9d2006e68f16'),\n",
       "  'meal_id': 1803,\n",
       "  'category': 'Extras',\n",
       "  'cuisine': 'Thai'},\n",
       " {'_id': ObjectId('60e6ffeb663e9d2006e68f15'),\n",
       "  'meal_id': 1778,\n",
       "  'category': 'Beverages',\n",
       "  'cuisine': 'Italian'},\n",
       " {'_id': ObjectId('60e6ffeb663e9d2006e68f14'),\n",
       "  'meal_id': 1062,\n",
       "  'category': 'Beverages',\n",
       "  'cuisine': 'Italian'},\n",
       " {'_id': ObjectId('60e6ffeb663e9d2006e68f13'),\n",
       "  'meal_id': 1311,\n",
       "  'category': 'Extras',\n",
       "  'cuisine': 'Thai'},\n",
       " {'_id': ObjectId('60e6ffeb663e9d2006e68f12'),\n",
       "  'meal_id': 2631,\n",
       "  'category': 'Beverages',\n",
       "  'cuisine': 'Indian'},\n",
       " {'_id': ObjectId('60e6ffeb663e9d2006e68f11'),\n",
       "  'meal_id': 1248,\n",
       "  'category': 'Beverages',\n",
       "  'cuisine': 'Indian'},\n",
       " {'_id': ObjectId('60e6ffeb663e9d2006e68f10'),\n",
       "  'meal_id': 2539,\n",
       "  'category': 'Beverages',\n",
       "  'cuisine': 'Thai'},\n",
       " {'_id': ObjectId('60e6ffeb663e9d2006e68f0f'),\n",
       "  'meal_id': 1993,\n",
       "  'category': 'Beverages',\n",
       "  'cuisine': 'Thai'},\n",
       " {'_id': ObjectId('60e6ffeb663e9d2006e68f0e'),\n",
       "  'meal_id': 1885,\n",
       "  'category': 'Beverages',\n",
       "  'cuisine': 'Thai'}]"
      ]
     },
     "execution_count": 13,
     "metadata": {},
     "output_type": "execute_result"
    }
   ],
   "source": [
    "# Sort\n",
    "[i for i in collection.find().sort(\"_id\",-1)]"
   ]
  },
  {
   "cell_type": "code",
   "execution_count": 14,
   "metadata": {},
   "outputs": [
    {
     "name": "stdout",
     "output_type": "stream",
     "text": [
      "{'_id': ObjectId('60e6ffeb663e9d2006e68f0e'), 'meal_id': 1885, 'category': 'Beverages', 'cuisine': 'Thai'}\n",
      "{'_id': ObjectId('60e6ffeb663e9d2006e68f0f'), 'meal_id': 1993, 'category': 'Beverages', 'cuisine': 'Thai'}\n",
      "{'_id': ObjectId('60e6ffeb663e9d2006e68f10'), 'meal_id': 2539, 'category': 'Beverages', 'cuisine': 'Thai'}\n",
      "{'_id': ObjectId('60e6ffeb663e9d2006e68f11'), 'meal_id': 1248, 'category': 'Beverages', 'cuisine': 'Indian'}\n",
      "{'_id': ObjectId('60e6ffeb663e9d2006e68f12'), 'meal_id': 2631, 'category': 'Beverages', 'cuisine': 'Indian'}\n",
      "{'_id': ObjectId('60e6ffeb663e9d2006e68f13'), 'meal_id': 1311, 'category': 'Extras', 'cuisine': 'Thai'}\n",
      "{'_id': ObjectId('60e6ffeb663e9d2006e68f14'), 'meal_id': 1062, 'category': 'Beverages', 'cuisine': 'Italian'}\n",
      "{'_id': ObjectId('60e6ffeb663e9d2006e68f15'), 'meal_id': 1778, 'category': 'Beverages', 'cuisine': 'Italian'}\n",
      "{'_id': ObjectId('60e6ffeb663e9d2006e68f16'), 'meal_id': 1803, 'category': 'Extras', 'cuisine': 'Thai'}\n",
      "{'_id': ObjectId('60e6ffeb663e9d2006e68f17'), 'meal_id': 1198, 'category': 'Extras', 'cuisine': 'Thai'}\n",
      "{'_id': ObjectId('60e6ffeb663e9d2006e68f18'), 'meal_id': 2707, 'category': 'Beverages', 'cuisine': 'Italian'}\n",
      "{'_id': ObjectId('60e6ffeb663e9d2006e68f19'), 'meal_id': 1847, 'category': 'Soup', 'cuisine': 'Thai'}\n",
      "{'_id': ObjectId('60e6ffeb663e9d2006e68f1a'), 'meal_id': 1438, 'category': 'Soup', 'cuisine': 'Thai'}\n",
      "{'_id': ObjectId('60e6ffeb663e9d2006e68f1b'), 'meal_id': 2494, 'category': 'Soup', 'cuisine': 'Thai'}\n",
      "{'_id': ObjectId('60e6ffeb663e9d2006e68f1c'), 'meal_id': 2760, 'category': 'Other Snacks', 'cuisine': 'Thai'}\n",
      "{'_id': ObjectId('60e6ffeb663e9d2006e68f1d'), 'meal_id': 2490, 'category': 'Salad', 'cuisine': 'Italian'}\n",
      "{'_id': ObjectId('60e6ffeb663e9d2006e68f1e'), 'meal_id': 1109, 'category': 'Rice Bowl', 'cuisine': 'Indian'}\n",
      "{'_id': ObjectId('60e6ffeb663e9d2006e68f1f'), 'meal_id': 2290, 'category': 'Rice Bowl', 'cuisine': 'Indian'}\n",
      "{'_id': ObjectId('60e6ffeb663e9d2006e68f20'), 'meal_id': 1525, 'category': 'Other Snacks', 'cuisine': 'Thai'}\n",
      "{'_id': ObjectId('60e6ffeb663e9d2006e68f21'), 'meal_id': 2704, 'category': 'Other Snacks', 'cuisine': 'Thai'}\n",
      "{'_id': ObjectId('60e6ffeb663e9d2006e68f22'), 'meal_id': 1878, 'category': 'Starters', 'cuisine': 'Thai'}\n",
      "{'_id': ObjectId('60e6ffeb663e9d2006e68f23'), 'meal_id': 2640, 'category': 'Starters', 'cuisine': 'Thai'}\n",
      "{'_id': ObjectId('60e6ffeb663e9d2006e68f24'), 'meal_id': 2577, 'category': 'Starters', 'cuisine': 'Thai'}\n",
      "{'_id': ObjectId('60e6ffeb663e9d2006e68f25'), 'meal_id': 1754, 'category': 'Sandwich', 'cuisine': 'Italian'}\n",
      "{'_id': ObjectId('60e6ffeb663e9d2006e68f26'), 'meal_id': 1971, 'category': 'Sandwich', 'cuisine': 'Italian'}\n",
      "{'_id': ObjectId('60e6ffeb663e9d2006e68f27'), 'meal_id': 2306, 'category': 'Pasta', 'cuisine': 'Italian'}\n",
      "{'_id': ObjectId('60e6ffeb663e9d2006e68f28'), 'meal_id': 2139, 'category': 'Beverages', 'cuisine': 'Indian'}\n",
      "{'_id': ObjectId('60e6ffeb663e9d2006e68f29'), 'meal_id': 2826, 'category': 'Sandwich', 'cuisine': 'Italian'}\n",
      "{'_id': ObjectId('60e6ffeb663e9d2006e68f2a'), 'meal_id': 2664, 'category': 'Salad', 'cuisine': 'Italian'}\n",
      "{'_id': ObjectId('60e6ffeb663e9d2006e68f2b'), 'meal_id': 2569, 'category': 'Salad', 'cuisine': 'Italian'}\n",
      "{'_id': ObjectId('60e6ffeb663e9d2006e68f2c'), 'meal_id': 1230, 'category': 'Beverages', 'cuisine': 'Continental'}\n",
      "{'_id': ObjectId('60e6ffeb663e9d2006e68f2d'), 'meal_id': 1207, 'category': 'Beverages', 'cuisine': 'Continental'}\n",
      "{'_id': ObjectId('60e6ffeb663e9d2006e68f2e'), 'meal_id': 2322, 'category': 'Beverages', 'cuisine': 'Continental'}\n",
      "{'_id': ObjectId('60e6ffeb663e9d2006e68f2f'), 'meal_id': 2492, 'category': 'Desert', 'cuisine': 'Indian'}\n",
      "{'_id': ObjectId('60e6ffeb663e9d2006e68f30'), 'meal_id': 1216, 'category': 'Pasta', 'cuisine': 'Italian'}\n",
      "{'_id': ObjectId('60e6ffeb663e9d2006e68f31'), 'meal_id': 1727, 'category': 'Rice Bowl', 'cuisine': 'Indian'}\n",
      "{'_id': ObjectId('60e6ffeb663e9d2006e68f32'), 'meal_id': 1902, 'category': 'Biryani', 'cuisine': 'Indian'}\n",
      "{'_id': ObjectId('60e6ffeb663e9d2006e68f33'), 'meal_id': 1247, 'category': 'Biryani', 'cuisine': 'Indian'}\n",
      "{'_id': ObjectId('60e6ffeb663e9d2006e68f34'), 'meal_id': 2304, 'category': 'Desert', 'cuisine': 'Indian'}\n",
      "{'_id': ObjectId('60e6ffeb663e9d2006e68f35'), 'meal_id': 1543, 'category': 'Desert', 'cuisine': 'Indian'}\n",
      "{'_id': ObjectId('60e6ffeb663e9d2006e68f36'), 'meal_id': 1770, 'category': 'Biryani', 'cuisine': 'Indian'}\n",
      "{'_id': ObjectId('60e6ffeb663e9d2006e68f37'), 'meal_id': 2126, 'category': 'Pasta', 'cuisine': 'Italian'}\n",
      "{'_id': ObjectId('60e6ffeb663e9d2006e68f38'), 'meal_id': 1558, 'category': 'Pizza', 'cuisine': 'Continental'}\n",
      "{'_id': ObjectId('60e6ffeb663e9d2006e68f39'), 'meal_id': 2581, 'category': 'Pizza', 'cuisine': 'Continental'}\n",
      "{'_id': ObjectId('60e6ffeb663e9d2006e68f3a'), 'meal_id': 1962, 'category': 'Pizza', 'cuisine': 'Continental'}\n",
      "{'_id': ObjectId('60e6ffeb663e9d2006e68f3b'), 'meal_id': 1571, 'category': 'Fish', 'cuisine': 'Continental'}\n",
      "{'_id': ObjectId('60e6ffeb663e9d2006e68f3c'), 'meal_id': 2956, 'category': 'Fish', 'cuisine': 'Continental'}\n",
      "{'_id': ObjectId('60e6ffeb663e9d2006e68f3d'), 'meal_id': 2104, 'category': 'Fish', 'cuisine': 'Continental'}\n",
      "{'_id': ObjectId('60e6ffeb663e9d2006e68f3e'), 'meal_id': 2444, 'category': 'Seafood', 'cuisine': 'Continental'}\n",
      "{'_id': ObjectId('60e6ffeb663e9d2006e68f3f'), 'meal_id': 2867, 'category': 'Seafood', 'cuisine': 'Continental'}\n",
      "{'_id': ObjectId('60e6ffeb663e9d2006e68f40'), 'meal_id': 1445, 'category': 'Seafood', 'cuisine': 'Continental'}\n"
     ]
    }
   ],
   "source": [
    "result = collection.find().sort(\"_id\",1)\n",
    "for i in result:\n",
    "    print(i)"
   ]
  },
  {
   "cell_type": "code",
   "execution_count": 15,
   "metadata": {},
   "outputs": [
    {
     "data": {
      "text/plain": [
       "[{'_id': ObjectId('60e6ffeb663e9d2006e68f0e'),\n",
       "  'meal_id': 1885,\n",
       "  'category': 'Beverages',\n",
       "  'cuisine': 'Thai'},\n",
       " {'_id': ObjectId('60e6ffeb663e9d2006e68f0f'),\n",
       "  'meal_id': 1993,\n",
       "  'category': 'Beverages',\n",
       "  'cuisine': 'Thai'},\n",
       " {'_id': ObjectId('60e6ffeb663e9d2006e68f10'),\n",
       "  'meal_id': 2539,\n",
       "  'category': 'Beverages',\n",
       "  'cuisine': 'Thai'},\n",
       " {'_id': ObjectId('60e6ffeb663e9d2006e68f11'),\n",
       "  'meal_id': 1248,\n",
       "  'category': 'Beverages',\n",
       "  'cuisine': 'Indian'},\n",
       " {'_id': ObjectId('60e6ffeb663e9d2006e68f12'),\n",
       "  'meal_id': 2631,\n",
       "  'category': 'Beverages',\n",
       "  'cuisine': 'Indian'},\n",
       " {'_id': ObjectId('60e6ffeb663e9d2006e68f13'),\n",
       "  'meal_id': 1311,\n",
       "  'category': 'Extras',\n",
       "  'cuisine': 'Thai'},\n",
       " {'_id': ObjectId('60e6ffeb663e9d2006e68f14'),\n",
       "  'meal_id': 1062,\n",
       "  'category': 'Beverages',\n",
       "  'cuisine': 'Italian'},\n",
       " {'_id': ObjectId('60e6ffeb663e9d2006e68f15'),\n",
       "  'meal_id': 1778,\n",
       "  'category': 'Beverages',\n",
       "  'cuisine': 'Italian'},\n",
       " {'_id': ObjectId('60e6ffeb663e9d2006e68f16'),\n",
       "  'meal_id': 1803,\n",
       "  'category': 'Extras',\n",
       "  'cuisine': 'Thai'},\n",
       " {'_id': ObjectId('60e6ffeb663e9d2006e68f17'),\n",
       "  'meal_id': 1198,\n",
       "  'category': 'Extras',\n",
       "  'cuisine': 'Thai'},\n",
       " {'_id': ObjectId('60e6ffeb663e9d2006e68f18'),\n",
       "  'meal_id': 2707,\n",
       "  'category': 'Beverages',\n",
       "  'cuisine': 'Italian'},\n",
       " {'_id': ObjectId('60e6ffeb663e9d2006e68f19'),\n",
       "  'meal_id': 1847,\n",
       "  'category': 'Soup',\n",
       "  'cuisine': 'Thai'},\n",
       " {'_id': ObjectId('60e6ffeb663e9d2006e68f1a'),\n",
       "  'meal_id': 1438,\n",
       "  'category': 'Soup',\n",
       "  'cuisine': 'Thai'},\n",
       " {'_id': ObjectId('60e6ffeb663e9d2006e68f1b'),\n",
       "  'meal_id': 2494,\n",
       "  'category': 'Soup',\n",
       "  'cuisine': 'Thai'},\n",
       " {'_id': ObjectId('60e6ffeb663e9d2006e68f1c'),\n",
       "  'meal_id': 2760,\n",
       "  'category': 'Other Snacks',\n",
       "  'cuisine': 'Thai'},\n",
       " {'_id': ObjectId('60e6ffeb663e9d2006e68f1d'),\n",
       "  'meal_id': 2490,\n",
       "  'category': 'Salad',\n",
       "  'cuisine': 'Italian'},\n",
       " {'_id': ObjectId('60e6ffeb663e9d2006e68f1e'),\n",
       "  'meal_id': 1109,\n",
       "  'category': 'Rice Bowl',\n",
       "  'cuisine': 'Indian'},\n",
       " {'_id': ObjectId('60e6ffeb663e9d2006e68f1f'),\n",
       "  'meal_id': 2290,\n",
       "  'category': 'Rice Bowl',\n",
       "  'cuisine': 'Indian'},\n",
       " {'_id': ObjectId('60e6ffeb663e9d2006e68f20'),\n",
       "  'meal_id': 1525,\n",
       "  'category': 'Other Snacks',\n",
       "  'cuisine': 'Thai'},\n",
       " {'_id': ObjectId('60e6ffeb663e9d2006e68f21'),\n",
       "  'meal_id': 2704,\n",
       "  'category': 'Other Snacks',\n",
       "  'cuisine': 'Thai'},\n",
       " {'_id': ObjectId('60e6ffeb663e9d2006e68f22'),\n",
       "  'meal_id': 1878,\n",
       "  'category': 'Starters',\n",
       "  'cuisine': 'Thai'},\n",
       " {'_id': ObjectId('60e6ffeb663e9d2006e68f23'),\n",
       "  'meal_id': 2640,\n",
       "  'category': 'Starters',\n",
       "  'cuisine': 'Thai'},\n",
       " {'_id': ObjectId('60e6ffeb663e9d2006e68f24'),\n",
       "  'meal_id': 2577,\n",
       "  'category': 'Starters',\n",
       "  'cuisine': 'Thai'},\n",
       " {'_id': ObjectId('60e6ffeb663e9d2006e68f25'),\n",
       "  'meal_id': 1754,\n",
       "  'category': 'Sandwich',\n",
       "  'cuisine': 'Italian'},\n",
       " {'_id': ObjectId('60e6ffeb663e9d2006e68f26'),\n",
       "  'meal_id': 1971,\n",
       "  'category': 'Sandwich',\n",
       "  'cuisine': 'Italian'},\n",
       " {'_id': ObjectId('60e6ffeb663e9d2006e68f27'),\n",
       "  'meal_id': 2306,\n",
       "  'category': 'Pasta',\n",
       "  'cuisine': 'Italian'},\n",
       " {'_id': ObjectId('60e6ffeb663e9d2006e68f28'),\n",
       "  'meal_id': 2139,\n",
       "  'category': 'Beverages',\n",
       "  'cuisine': 'Indian'},\n",
       " {'_id': ObjectId('60e6ffeb663e9d2006e68f29'),\n",
       "  'meal_id': 2826,\n",
       "  'category': 'Sandwich',\n",
       "  'cuisine': 'Italian'},\n",
       " {'_id': ObjectId('60e6ffeb663e9d2006e68f2a'),\n",
       "  'meal_id': 2664,\n",
       "  'category': 'Salad',\n",
       "  'cuisine': 'Italian'},\n",
       " {'_id': ObjectId('60e6ffeb663e9d2006e68f2b'),\n",
       "  'meal_id': 2569,\n",
       "  'category': 'Salad',\n",
       "  'cuisine': 'Italian'},\n",
       " {'_id': ObjectId('60e6ffeb663e9d2006e68f2c'),\n",
       "  'meal_id': 1230,\n",
       "  'category': 'Beverages',\n",
       "  'cuisine': 'Continental'},\n",
       " {'_id': ObjectId('60e6ffeb663e9d2006e68f2d'),\n",
       "  'meal_id': 1207,\n",
       "  'category': 'Beverages',\n",
       "  'cuisine': 'Continental'},\n",
       " {'_id': ObjectId('60e6ffeb663e9d2006e68f2e'),\n",
       "  'meal_id': 2322,\n",
       "  'category': 'Beverages',\n",
       "  'cuisine': 'Continental'},\n",
       " {'_id': ObjectId('60e6ffeb663e9d2006e68f2f'),\n",
       "  'meal_id': 2492,\n",
       "  'category': 'Desert',\n",
       "  'cuisine': 'Indian'},\n",
       " {'_id': ObjectId('60e6ffeb663e9d2006e68f30'),\n",
       "  'meal_id': 1216,\n",
       "  'category': 'Pasta',\n",
       "  'cuisine': 'Italian'},\n",
       " {'_id': ObjectId('60e6ffeb663e9d2006e68f31'),\n",
       "  'meal_id': 1727,\n",
       "  'category': 'Rice Bowl',\n",
       "  'cuisine': 'Indian'},\n",
       " {'_id': ObjectId('60e6ffeb663e9d2006e68f32'),\n",
       "  'meal_id': 1902,\n",
       "  'category': 'Biryani',\n",
       "  'cuisine': 'Indian'},\n",
       " {'_id': ObjectId('60e6ffeb663e9d2006e68f33'),\n",
       "  'meal_id': 1247,\n",
       "  'category': 'Biryani',\n",
       "  'cuisine': 'Indian'},\n",
       " {'_id': ObjectId('60e6ffeb663e9d2006e68f34'),\n",
       "  'meal_id': 2304,\n",
       "  'category': 'Desert',\n",
       "  'cuisine': 'Indian'},\n",
       " {'_id': ObjectId('60e6ffeb663e9d2006e68f35'),\n",
       "  'meal_id': 1543,\n",
       "  'category': 'Desert',\n",
       "  'cuisine': 'Indian'},\n",
       " {'_id': ObjectId('60e6ffeb663e9d2006e68f36'),\n",
       "  'meal_id': 1770,\n",
       "  'category': 'Biryani',\n",
       "  'cuisine': 'Indian'},\n",
       " {'_id': ObjectId('60e6ffeb663e9d2006e68f37'),\n",
       "  'meal_id': 2126,\n",
       "  'category': 'Pasta',\n",
       "  'cuisine': 'Italian'},\n",
       " {'_id': ObjectId('60e6ffeb663e9d2006e68f38'),\n",
       "  'meal_id': 1558,\n",
       "  'category': 'Pizza',\n",
       "  'cuisine': 'Continental'},\n",
       " {'_id': ObjectId('60e6ffeb663e9d2006e68f39'),\n",
       "  'meal_id': 2581,\n",
       "  'category': 'Pizza',\n",
       "  'cuisine': 'Continental'},\n",
       " {'_id': ObjectId('60e6ffeb663e9d2006e68f3a'),\n",
       "  'meal_id': 1962,\n",
       "  'category': 'Pizza',\n",
       "  'cuisine': 'Continental'},\n",
       " {'_id': ObjectId('60e6ffeb663e9d2006e68f3b'),\n",
       "  'meal_id': 1571,\n",
       "  'category': 'Fish',\n",
       "  'cuisine': 'Continental'},\n",
       " {'_id': ObjectId('60e6ffeb663e9d2006e68f3c'),\n",
       "  'meal_id': 2956,\n",
       "  'category': 'Fish',\n",
       "  'cuisine': 'Continental'},\n",
       " {'_id': ObjectId('60e6ffeb663e9d2006e68f3d'),\n",
       "  'meal_id': 2104,\n",
       "  'category': 'Fish',\n",
       "  'cuisine': 'Continental'},\n",
       " {'_id': ObjectId('60e6ffeb663e9d2006e68f3e'),\n",
       "  'meal_id': 2444,\n",
       "  'category': 'Seafood',\n",
       "  'cuisine': 'Continental'},\n",
       " {'_id': ObjectId('60e6ffeb663e9d2006e68f3f'),\n",
       "  'meal_id': 2867,\n",
       "  'category': 'Seafood',\n",
       "  'cuisine': 'Continental'},\n",
       " {'_id': ObjectId('60e6ffeb663e9d2006e68f40'),\n",
       "  'meal_id': 1445,\n",
       "  'category': 'Seafood',\n",
       "  'cuisine': 'Continental'}]"
      ]
     },
     "execution_count": 15,
     "metadata": {},
     "output_type": "execute_result"
    }
   ],
   "source": [
    "# Find\n",
    "[i for i in collection.find()]"
   ]
  },
  {
   "cell_type": "code",
   "execution_count": 16,
   "metadata": {},
   "outputs": [
    {
     "data": {
      "text/plain": [
       "{'_id': ObjectId('60e6ffeb663e9d2006e68f1d'),\n",
       " 'meal_id': 2490,\n",
       " 'category': 'Salad',\n",
       " 'cuisine': 'Italian'}"
      ]
     },
     "execution_count": 16,
     "metadata": {},
     "output_type": "execute_result"
    }
   ],
   "source": [
    "# Find_one\n",
    "collection.find_one({\"category\":\"Salad\"})"
   ]
  },
  {
   "cell_type": "code",
   "execution_count": 17,
   "metadata": {},
   "outputs": [
    {
     "data": {
      "text/plain": [
       "<pymongo.results.UpdateResult at 0x19215bc35c0>"
      ]
     },
     "execution_count": 17,
     "metadata": {},
     "output_type": "execute_result"
    }
   ],
   "source": [
    "# Update_many\n",
    "var_2 = {'meal_id': 240, 'category': 'Snacks', 'cuisine': 'Italian'}\n",
    "collection.update_many({\"meal_id\":24},{\"$set\":var_2})"
   ]
  },
  {
   "cell_type": "code",
   "execution_count": 18,
   "metadata": {},
   "outputs": [
    {
     "data": {
      "text/plain": [
       "<pymongo.results.UpdateResult at 0x19215c10d40>"
      ]
     },
     "execution_count": 18,
     "metadata": {},
     "output_type": "execute_result"
    }
   ],
   "source": [
    "# Update_one\n",
    "var_3 = {'meal_id': 249, 'category': 'Snacks', 'cuisine': 'Italian'}\n",
    "collection.update_one({\"meal_id\":240},{\"$set\":var_3})"
   ]
  },
  {
   "cell_type": "code",
   "execution_count": 19,
   "metadata": {},
   "outputs": [
    {
     "name": "stdout",
     "output_type": "stream",
     "text": [
      "{'_id': ObjectId('60e6ffeb663e9d2006e68f0e'), 'meal_id': 1885, 'category': 'Beverages', 'cuisine': 'Thai'}\n",
      "{'_id': ObjectId('60e6ffeb663e9d2006e68f0f'), 'meal_id': 1993, 'category': 'Beverages', 'cuisine': 'Thai'}\n",
      "{'_id': ObjectId('60e6ffeb663e9d2006e68f10'), 'meal_id': 2539, 'category': 'Beverages', 'cuisine': 'Thai'}\n",
      "{'_id': ObjectId('60e6ffeb663e9d2006e68f11'), 'meal_id': 1248, 'category': 'Beverages', 'cuisine': 'Indian'}\n",
      "{'_id': ObjectId('60e6ffeb663e9d2006e68f12'), 'meal_id': 2631, 'category': 'Beverages', 'cuisine': 'Indian'}\n",
      "{'_id': ObjectId('60e6ffeb663e9d2006e68f13'), 'meal_id': 1311, 'category': 'Extras', 'cuisine': 'Thai'}\n",
      "{'_id': ObjectId('60e6ffeb663e9d2006e68f14'), 'meal_id': 1062, 'category': 'Beverages', 'cuisine': 'Italian'}\n",
      "{'_id': ObjectId('60e6ffeb663e9d2006e68f15'), 'meal_id': 1778, 'category': 'Beverages', 'cuisine': 'Italian'}\n",
      "{'_id': ObjectId('60e6ffeb663e9d2006e68f16'), 'meal_id': 1803, 'category': 'Extras', 'cuisine': 'Thai'}\n",
      "{'_id': ObjectId('60e6ffeb663e9d2006e68f17'), 'meal_id': 1198, 'category': 'Extras', 'cuisine': 'Thai'}\n",
      "{'_id': ObjectId('60e6ffeb663e9d2006e68f18'), 'meal_id': 2707, 'category': 'Beverages', 'cuisine': 'Italian'}\n",
      "{'_id': ObjectId('60e6ffeb663e9d2006e68f19'), 'meal_id': 1847, 'category': 'Soup', 'cuisine': 'Thai'}\n",
      "{'_id': ObjectId('60e6ffeb663e9d2006e68f1a'), 'meal_id': 1438, 'category': 'Soup', 'cuisine': 'Thai'}\n",
      "{'_id': ObjectId('60e6ffeb663e9d2006e68f1b'), 'meal_id': 2494, 'category': 'Soup', 'cuisine': 'Thai'}\n",
      "{'_id': ObjectId('60e6ffeb663e9d2006e68f1c'), 'meal_id': 2760, 'category': 'Other Snacks', 'cuisine': 'Thai'}\n",
      "{'_id': ObjectId('60e6ffeb663e9d2006e68f1d'), 'meal_id': 2490, 'category': 'Salad', 'cuisine': 'Italian'}\n",
      "{'_id': ObjectId('60e6ffeb663e9d2006e68f1e'), 'meal_id': 1109, 'category': 'Rice Bowl', 'cuisine': 'Indian'}\n",
      "{'_id': ObjectId('60e6ffeb663e9d2006e68f1f'), 'meal_id': 2290, 'category': 'Rice Bowl', 'cuisine': 'Indian'}\n",
      "{'_id': ObjectId('60e6ffeb663e9d2006e68f20'), 'meal_id': 1525, 'category': 'Other Snacks', 'cuisine': 'Thai'}\n",
      "{'_id': ObjectId('60e6ffeb663e9d2006e68f21'), 'meal_id': 2704, 'category': 'Other Snacks', 'cuisine': 'Thai'}\n",
      "{'_id': ObjectId('60e6ffeb663e9d2006e68f22'), 'meal_id': 1878, 'category': 'Starters', 'cuisine': 'Thai'}\n",
      "{'_id': ObjectId('60e6ffeb663e9d2006e68f23'), 'meal_id': 2640, 'category': 'Starters', 'cuisine': 'Thai'}\n",
      "{'_id': ObjectId('60e6ffeb663e9d2006e68f24'), 'meal_id': 2577, 'category': 'Starters', 'cuisine': 'Thai'}\n",
      "{'_id': ObjectId('60e6ffeb663e9d2006e68f25'), 'meal_id': 1754, 'category': 'Sandwich', 'cuisine': 'Italian'}\n"
     ]
    }
   ],
   "source": [
    "# Limit\n",
    "result_1 = collection.find().limit(24)\n",
    "for i in result_1:\n",
    "    print(i)"
   ]
  },
  {
   "cell_type": "code",
   "execution_count": null,
   "metadata": {},
   "outputs": [],
   "source": []
  },
  {
   "cell_type": "code",
   "execution_count": null,
   "metadata": {},
   "outputs": [],
   "source": []
  },
  {
   "cell_type": "code",
   "execution_count": null,
   "metadata": {},
   "outputs": [],
   "source": []
  },
  {
   "cell_type": "code",
   "execution_count": null,
   "metadata": {},
   "outputs": [],
   "source": []
  },
  {
   "cell_type": "code",
   "execution_count": null,
   "metadata": {},
   "outputs": [],
   "source": []
  },
  {
   "cell_type": "code",
   "execution_count": null,
   "metadata": {},
   "outputs": [],
   "source": []
  }
 ],
 "metadata": {
  "kernelspec": {
   "display_name": "Python 3",
   "language": "python",
   "name": "python3"
  },
  "language_info": {
   "codemirror_mode": {
    "name": "ipython",
    "version": 3
   },
   "file_extension": ".py",
   "mimetype": "text/x-python",
   "name": "python",
   "nbconvert_exporter": "python",
   "pygments_lexer": "ipython3",
   "version": "3.8.5"
  }
 },
 "nbformat": 4,
 "nbformat_minor": 4
}
